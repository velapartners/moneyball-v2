{
 "cells": [
  {
   "cell_type": "markdown",
   "metadata": {},
   "source": [
    "# Data Loading\n",
    "In this notebook we will load all of the spreadsheets with the success and unsuccessful companies. Once loaded, save both spreadsheets in one pandas dataframe"
   ]
  },
  {
   "cell_type": "code",
   "execution_count": 6,
   "metadata": {},
   "outputs": [],
   "source": [
    "#Import all the libraries\n",
    "%matplotlib inline\n",
    "import matplotlib.pyplot as plt\n",
    "import pandas as pd\n",
    "import numpy as np\n",
    "from functools import reduce\n",
    "import math\n",
    "import urllib\n",
    "import difflib \n",
    "import seaborn as sns\n",
    "import sklearn.model_selection\n",
    "from tensorflow.keras.models import Sequential\n",
    "from tensorflow.keras.layers import Dense\n",
    "from sklearn.model_selection import cross_val_score"
   ]
  },
  {
   "cell_type": "markdown",
   "metadata": {},
   "source": [
    "We perform the following steps:\n",
    "1. Get the names of all sheets in each workbook\n",
    "2. Load each sheet into a dataframe\n",
    "3. Join all of the dataframes together"
   ]
  },
  {
   "cell_type": "code",
   "execution_count": 7,
   "metadata": {},
   "outputs": [],
   "source": [
    "'''\n",
    "First we load boath spreadsheets and extra all the names of the workbooks\n",
    "'''\n",
    "\n",
    "xls_Successful_Companies= pd.ExcelFile('Data\\Moneyball, Successful Companies (Internship data).xlsx')\n",
    "xls_Successful_Companies_Sheet_Names = xls_Successful_Companies.sheet_names\n",
    "\n",
    "\n",
    "#xls_Unsuccessful_Companies= pd.ExcelFile('Data\\Moneyball, Unsuccessful Companies (Intership data).xlsx')\n",
    "xls_Unsuccessful_Companies= pd.ExcelFile('Data\\[Enriched] Moneyball, Unsuccessful Companies (Intership data).xlsx')\n",
    "xls_Unsuccessful_Companies_Sheet_Names = xls_Successful_Companies.sheet_names\n",
    "\n",
    "\n",
    "'''\n",
    "Importing all of the excel sheets of successful informaiton and removing the last 2 rows that have unnecessary information\n",
    "\n",
    "'''\n",
    "df_SuccessfulCompanies = [pd.read_excel (r'Data\\Moneyball, Successful Companies (Internship data).xlsx',\n",
    "                                         sheet_name= sheetname) for sheetname in xls_Successful_Companies_Sheet_Names]\n",
    "df_SuccessfulCompanies[1].drop(index = [503, 504], inplace=True)\n",
    "df_SuccessfulCompanies[2].drop(index = [573, 574], inplace=True)\n",
    "df_SuccessfulCompanies[3].drop(index = [522, 523], inplace=True)\n",
    "\n",
    "'''\n",
    "Importing all of the excel sheets of unsuccessful informaiton\n",
    "\n",
    "'''\n",
    "df_UnsuccessfulCompanies = [pd.read_excel (r'Data\\[Enriched] Moneyball, Unsuccessful Companies (Intership data).xlsx',\n",
    "                                         sheet_name= sheetname) for sheetname in xls_Unsuccessful_Companies_Sheet_Names]\n",
    "\n",
    "\n",
    "'''Merging all of the successful data into one dataframe and creating a column called \"success_flag\" \n",
    "which will denote if the company is successful or not '''\n",
    "df_SuccessfulCompanies_merged = reduce(lambda  left,right: pd.merge(left,right,on=['name'],how='outer'),\n",
    "                                       df_SuccessfulCompanies)\n",
    "df_SuccessfulCompanies_merged['success_flag']  = 1\n",
    "\n",
    "'''Merging all of the unsuccessful data into one dataframe and creating a column called \"success_flag\" \n",
    "which will denote if the company is successful or not '''\n",
    "\n",
    "\n",
    "df_UnsuccessfulCompanies_merged = reduce(lambda  left,right: pd.merge(left,right,on=['name'],how='outer'),\n",
    "                                       df_UnsuccessfulCompanies)\n",
    "df_UnsuccessfulCompanies_merged['success_flag']  = 0\n",
    "\n",
    "'''Merge the successful and unsuccessful data into one datafram'''\n",
    "df_All_Companies_merged = pd.concat([df_SuccessfulCompanies_merged, df_UnsuccessfulCompanies_merged], ignore_index=True, sort=False)"
   ]
  },
  {
   "cell_type": "code",
   "execution_count": 8,
   "metadata": {},
   "outputs": [],
   "source": [
    "'''Now we will save the dataframe for easier future access\n",
    "\n",
    "REMEMBER TO CHANGE THE FLAG WHEN APPROPIATE\n",
    "'''\n",
    "\n",
    "save_datafram_flag  = True\n",
    "if save_datafram_flag: df_All_Companies_merged.to_pickle(r'Data\\df_All_Companies_merged.pkl')"
   ]
  }
 ],
 "metadata": {
  "kernelspec": {
   "display_name": "Python 3",
   "language": "python",
   "name": "python3"
  },
  "language_info": {
   "codemirror_mode": {
    "name": "ipython",
    "version": 3
   },
   "file_extension": ".py",
   "mimetype": "text/x-python",
   "name": "python",
   "nbconvert_exporter": "python",
   "pygments_lexer": "ipython3",
   "version": "3.8.5"
  }
 },
 "nbformat": 4,
 "nbformat_minor": 4
}
